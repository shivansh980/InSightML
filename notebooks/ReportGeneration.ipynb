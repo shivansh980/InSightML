{
 "cells": [
  {
   "cell_type": "markdown",
   "metadata": {},
   "source": [
    "# Report Generation of saved models\n",
    "We will use the following notebook to generate reports for saved models. "
   ]
  },
  {
   "cell_type": "markdown",
   "metadata": {},
   "source": [
    "Importing necessary libraries and modules\n"
   ]
  },
  {
   "cell_type": "code",
   "execution_count": 2,
   "metadata": {},
   "outputs": [],
   "source": [
    "import pandas as pd\n",
    "from src.model_loader import ModelLoaderFactory\n",
    "from src.shap_explainer import ShapExplainerContext\n",
    "from src.report_generator import PDFReportGenerator\n",
    "import warnings\n",
    "warnings.filterwarnings('ignore')"
   ]
  },
  {
   "cell_type": "code",
   "execution_count": 8,
   "metadata": {},
   "outputs": [],
   "source": [
    "data = pd.read_csv(\"data/Shap_data.csv\")\n",
    "X = data[:100]"
   ]
  },
  {
   "cell_type": "markdown",
   "metadata": {},
   "source": [
    "Linear model"
   ]
  },
  {
   "cell_type": "code",
   "execution_count": 15,
   "metadata": {},
   "outputs": [
    {
     "name": "stdout",
     "output_type": "stream",
     "text": [
      "PDF Report generated at reports/model_linear_interpretability_report.pdf\n"
     ]
    }
   ],
   "source": [
    "loader = ModelLoaderFactory.get_model_loader(\"models/model_linear_pkl.pkl\")\n",
    "model = loader.load_model(\"models/model_linear_pkl.pkl\")\n",
    "\n",
    "Explainer = ShapExplainerContext(model, X)\n",
    "shap_values = Explainer.explain_model()\n",
    "\n",
    "report = PDFReportGenerator(model, data, shap_values, output_path=\"reports/model_linear_interpretability_report.pdf\")\n",
    "report.generate_pdf_report()"
   ]
  },
  {
   "cell_type": "markdown",
   "metadata": {},
   "source": [
    "Neural Network"
   ]
  },
  {
   "cell_type": "code",
   "execution_count": 16,
   "metadata": {},
   "outputs": [
    {
     "data": {
      "text/html": [
       "<pre style=\"white-space:pre;overflow-x:auto;line-height:normal;font-family:Menlo,'DejaVu Sans Mono',consolas,'Courier New',monospace\"></pre>\n"
      ],
      "text/plain": []
     },
     "metadata": {},
     "output_type": "display_data"
    },
    {
     "name": "stdout",
     "output_type": "stream",
     "text": [
      "PDF Report generated at reports/model_deep_interpretability_report.pdf\n"
     ]
    }
   ],
   "source": [
    "loader = ModelLoaderFactory.get_model_loader(\"models/model_deep.keras\")\n",
    "model = loader.load_model(\"models/model_deep.keras\")\n",
    "\n",
    "Explainer = ShapExplainerContext(model, X)\n",
    "shap_values = Explainer.explain_model()\n",
    "\n",
    "report = PDFReportGenerator(model, data, shap_values, output_path=\"reports/model_deep_interpretability_report.pdf\")\n",
    "report.generate_pdf_report()"
   ]
  },
  {
   "cell_type": "markdown",
   "metadata": {},
   "source": [
    "Random Forest Model"
   ]
  },
  {
   "cell_type": "code",
   "execution_count": 17,
   "metadata": {},
   "outputs": [
    {
     "name": "stdout",
     "output_type": "stream",
     "text": [
      "PDF Report generated at reports/model_rf_interpretability_report.pdf\n"
     ]
    }
   ],
   "source": [
    "loader = ModelLoaderFactory.get_model_loader(\"models/model_tree_pkl.pkl\")\n",
    "model = loader.load_model(\"models/model_tree_pkl.pkl\")\n",
    "\n",
    "Explainer = ShapExplainerContext(model, X)\n",
    "shap_values = Explainer.explain_model()\n",
    "\n",
    "report = PDFReportGenerator(model, data, shap_values, output_path=\"reports/model_rf_interpretability_report.pdf\")\n",
    "report.generate_pdf_report()"
   ]
  },
  {
   "cell_type": "markdown",
   "metadata": {},
   "source": [
    "xgBoost Regressor"
   ]
  },
  {
   "cell_type": "code",
   "execution_count": 18,
   "metadata": {},
   "outputs": [
    {
     "name": "stdout",
     "output_type": "stream",
     "text": [
      "PDF Report generated at reports/model_xgBoost_interpretability_report.pdf\n"
     ]
    }
   ],
   "source": [
    "loader = ModelLoaderFactory.get_model_loader(\"models/model_xgboost_tree_pkl.pkl\")\n",
    "model = loader.load_model(\"models/model_xgboost_tree_pkl.pkl\")\n",
    "\n",
    "Explainer = ShapExplainerContext(model, X)\n",
    "shap_values = Explainer.explain_model()\n",
    "\n",
    "report = PDFReportGenerator(model, data, shap_values, output_path=\"reports/model_xgBoost_interpretability_report.pdf\")\n",
    "report.generate_pdf_report()"
   ]
  },
  {
   "cell_type": "markdown",
   "metadata": {},
   "source": [
    "Please find all the generated pdf reports in the reports directory"
   ]
  }
 ],
 "metadata": {
  "kernelspec": {
   "display_name": ".venv",
   "language": "python",
   "name": "python3"
  },
  "language_info": {
   "codemirror_mode": {
    "name": "ipython",
    "version": 3
   },
   "file_extension": ".py",
   "mimetype": "text/x-python",
   "name": "python",
   "nbconvert_exporter": "python",
   "pygments_lexer": "ipython3",
   "version": "3.9.6"
  }
 },
 "nbformat": 4,
 "nbformat_minor": 2
}
